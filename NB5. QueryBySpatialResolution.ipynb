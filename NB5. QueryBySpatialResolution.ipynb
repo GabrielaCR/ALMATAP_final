{
 "cells": [
  {
   "cell_type": "markdown",
   "metadata": {},
   "source": [
    "\n",
    "<img src=\"ALMAARC.png\" width=\"250\" height=\"240\"  align=\"right\"/> \n",
    "\n",
    "\n",
    "\n",
    "<hr style=\"border:2px solid darkblue\"> </hr>\n",
    "\n",
    "# NB5. Query By Spatial Resolution\n",
    "\n",
    "\n",
    "<hr style=\"border:2px solid darkblue\"> </hr>\n",
    "\n",
    "\n",
    "\n",
    "-------------\n",
    "\n",
    "The relevant columns in the ALMA Archive datasets are \n",
    "* *spatial_resolution*\n",
    " \n",
    "--------- ----- -----\n",
    "\n",
    "\n",
    "\n"
   ]
  },
  {
   "cell_type": "markdown",
   "metadata": {},
   "source": [
    "Import all necessary modules"
   ]
  },
  {
   "cell_type": "code",
   "execution_count": 1,
   "metadata": {},
   "outputs": [],
   "source": [
    "import numpy as np\n",
    "import pandas as pd\n",
    "import pyvo\n",
    "\n",
    "service = pyvo.dal.TAPService(\"https://almascience.eso.org/tap\")\n",
    "\n"
   ]
  },
  {
   "cell_type": "markdown",
   "metadata": {},
   "source": [
    "<hr style=\"border:2px solid darkblue\"> </hr>\n",
    "\n",
    "\n",
    "## Query a given spatial resolution within a science keyword and data type\n",
    "<hr style=\"border:2px solid darkblue\"> </hr>\n",
    "\n",
    "\n"
   ]
  },
  {
   "cell_type": "code",
   "execution_count": 8,
   "metadata": {},
   "outputs": [],
   "source": [
    "def query_spatialresolution(sci_key, dtype, res_min, res_max):\n",
    "\n",
    "\n",
    "    query = f\"\"\"   \n",
    "            SELECT * \n",
    "            FROM ivoa.obscore \n",
    "            WHERE  \n",
    "            science_keyword like '%{sci_key}%'  \n",
    "            AND  \n",
    "            science_observation = 'T' \n",
    "            AND  \n",
    "            dataproduct_type = '{dtype}'  \n",
    "            AND  \n",
    "            spatial_resolution < '{res_max}'  \n",
    "            AND  \n",
    "            spatial_resolution > '{res_min}'  \n",
    "            \"\"\"\n",
    "    \n",
    "    return service.search(query).to_table().to_pandas()"
   ]
  },
  {
   "cell_type": "markdown",
   "metadata": {},
   "source": [
    "------------------------------------------------------- \n",
    "\n",
    "## Example 5a: Query all continuum observations of starburst galaxies with spatial resolution <0.05 arcsec"
   ]
  },
  {
   "cell_type": "code",
   "execution_count": 9,
   "metadata": {
    "scrolled": true
   },
   "outputs": [
    {
     "data": {
      "text/html": [
       "<div>\n",
       "<style scoped>\n",
       "    .dataframe tbody tr th:only-of-type {\n",
       "        vertical-align: middle;\n",
       "    }\n",
       "\n",
       "    .dataframe tbody tr th {\n",
       "        vertical-align: top;\n",
       "    }\n",
       "\n",
       "    .dataframe thead th {\n",
       "        text-align: right;\n",
       "    }\n",
       "</style>\n",
       "<table border=\"1\" class=\"dataframe\">\n",
       "  <thead>\n",
       "    <tr style=\"text-align: right;\">\n",
       "      <th></th>\n",
       "      <th>access_url</th>\n",
       "      <th>access_format</th>\n",
       "      <th>proposal_id</th>\n",
       "      <th>data_rights</th>\n",
       "      <th>gal_longitude</th>\n",
       "      <th>gal_latitude</th>\n",
       "      <th>obs_publisher_did</th>\n",
       "      <th>obs_collection</th>\n",
       "      <th>facility_name</th>\n",
       "      <th>instrument_name</th>\n",
       "      <th>...</th>\n",
       "      <th>frequency</th>\n",
       "      <th>velocity_resolution</th>\n",
       "      <th>obs_creator_name</th>\n",
       "      <th>pub_title</th>\n",
       "      <th>first_author</th>\n",
       "      <th>qa2_passed</th>\n",
       "      <th>bib_reference</th>\n",
       "      <th>science_keyword</th>\n",
       "      <th>scientific_category</th>\n",
       "      <th>lastModified</th>\n",
       "    </tr>\n",
       "  </thead>\n",
       "  <tbody>\n",
       "    <tr>\n",
       "      <th>0</th>\n",
       "      <td>http://almascience.org/aq?member_ous_id=uid://...</td>\n",
       "      <td>text/html</td>\n",
       "      <td>2016.1.00990.S</td>\n",
       "      <td>Public</td>\n",
       "      <td>223.393976</td>\n",
       "      <td>-54.402914</td>\n",
       "      <td>ADS/JAO.ALMA#2016.1.00990.S</td>\n",
       "      <td>ALMA</td>\n",
       "      <td>JAO</td>\n",
       "      <td>ALMA</td>\n",
       "      <td>...</td>\n",
       "      <td>138.026657</td>\n",
       "      <td>8242.256222</td>\n",
       "      <td>Barro, Guillermo</td>\n",
       "      <td></td>\n",
       "      <td></td>\n",
       "      <td>T</td>\n",
       "      <td></td>\n",
       "      <td>Starburst galaxies, Galaxy structure &amp; evolution</td>\n",
       "      <td>Active galaxies</td>\n",
       "      <td>2021-06-16T16:46:50.431</td>\n",
       "    </tr>\n",
       "    <tr>\n",
       "      <th>1</th>\n",
       "      <td>http://almascience.org/aq?member_ous_id=uid://...</td>\n",
       "      <td>text/html</td>\n",
       "      <td>2016.1.00048.S</td>\n",
       "      <td>Public</td>\n",
       "      <td>223.955959</td>\n",
       "      <td>-54.231119</td>\n",
       "      <td>ADS/JAO.ALMA#2016.1.00048.S</td>\n",
       "      <td>ALMA</td>\n",
       "      <td>JAO</td>\n",
       "      <td>ALMA</td>\n",
       "      <td>...</td>\n",
       "      <td>343.990133</td>\n",
       "      <td>26767.001161</td>\n",
       "      <td>Hodge, Jacqueline</td>\n",
       "      <td>ALMA 200 pc Resolution Imaging of Smooth Cold ...</td>\n",
       "      <td>Hodge, J. A. Rujopakarn, W.</td>\n",
       "      <td>T</td>\n",
       "      <td>2019ApJ...876..130H 2019ApJ...882..107R</td>\n",
       "      <td>Starburst galaxies, Sub-mm Galaxies (SMG)</td>\n",
       "      <td>Active galaxies</td>\n",
       "      <td>2021-06-16T16:46:50.431</td>\n",
       "    </tr>\n",
       "    <tr>\n",
       "      <th>2</th>\n",
       "      <td>http://almascience.org/aq?member_ous_id=uid://...</td>\n",
       "      <td>text/html</td>\n",
       "      <td>2016.1.00048.S</td>\n",
       "      <td>Public</td>\n",
       "      <td>223.104592</td>\n",
       "      <td>-54.317497</td>\n",
       "      <td>ADS/JAO.ALMA#2016.1.00048.S</td>\n",
       "      <td>ALMA</td>\n",
       "      <td>JAO</td>\n",
       "      <td>ALMA</td>\n",
       "      <td>...</td>\n",
       "      <td>343.989864</td>\n",
       "      <td>26767.001161</td>\n",
       "      <td>Hodge, Jacqueline</td>\n",
       "      <td>ALMA 200 pc Resolution Imaging of Smooth Cold ...</td>\n",
       "      <td>Hodge, J. A. Rujopakarn, W.</td>\n",
       "      <td>T</td>\n",
       "      <td>2019ApJ...876..130H 2019ApJ...882..107R</td>\n",
       "      <td>Starburst galaxies, Sub-mm Galaxies (SMG)</td>\n",
       "      <td>Active galaxies</td>\n",
       "      <td>2021-06-16T16:46:50.431</td>\n",
       "    </tr>\n",
       "    <tr>\n",
       "      <th>3</th>\n",
       "      <td>http://almascience.org/aq?member_ous_id=uid://...</td>\n",
       "      <td>text/html</td>\n",
       "      <td>2015.1.01227.S</td>\n",
       "      <td>Public</td>\n",
       "      <td>53.436745</td>\n",
       "      <td>-36.256988</td>\n",
       "      <td>ADS/JAO.ALMA#2015.1.01227.S</td>\n",
       "      <td>ALMA</td>\n",
       "      <td>JAO</td>\n",
       "      <td>ALMA</td>\n",
       "      <td>...</td>\n",
       "      <td>678.992756</td>\n",
       "      <td>13758.210504</td>\n",
       "      <td>Thomson, Alasdair</td>\n",
       "      <td></td>\n",
       "      <td></td>\n",
       "      <td>T</td>\n",
       "      <td></td>\n",
       "      <td>Starburst galaxies, Sub-mm Galaxies (SMG)</td>\n",
       "      <td>Active galaxies</td>\n",
       "      <td>2021-06-16T16:46:50.431</td>\n",
       "    </tr>\n",
       "    <tr>\n",
       "      <th>4</th>\n",
       "      <td>http://almascience.org/aq?member_ous_id=uid://...</td>\n",
       "      <td>text/html</td>\n",
       "      <td>2016.1.00048.S</td>\n",
       "      <td>Public</td>\n",
       "      <td>223.816492</td>\n",
       "      <td>-54.259375</td>\n",
       "      <td>ADS/JAO.ALMA#2016.1.00048.S</td>\n",
       "      <td>ALMA</td>\n",
       "      <td>JAO</td>\n",
       "      <td>ALMA</td>\n",
       "      <td>...</td>\n",
       "      <td>343.990074</td>\n",
       "      <td>26767.001161</td>\n",
       "      <td>Hodge, Jacqueline</td>\n",
       "      <td>ALMA 200 pc Resolution Imaging of Smooth Cold ...</td>\n",
       "      <td>Hodge, J. A. Rujopakarn, W.</td>\n",
       "      <td>T</td>\n",
       "      <td>2019ApJ...876..130H 2019ApJ...882..107R</td>\n",
       "      <td>Starburst galaxies, Sub-mm Galaxies (SMG)</td>\n",
       "      <td>Active galaxies</td>\n",
       "      <td>2021-06-16T16:46:50.431</td>\n",
       "    </tr>\n",
       "  </tbody>\n",
       "</table>\n",
       "<p>5 rows × 63 columns</p>\n",
       "</div>"
      ],
      "text/plain": [
       "                                          access_url access_format  \\\n",
       "0  http://almascience.org/aq?member_ous_id=uid://...     text/html   \n",
       "1  http://almascience.org/aq?member_ous_id=uid://...     text/html   \n",
       "2  http://almascience.org/aq?member_ous_id=uid://...     text/html   \n",
       "3  http://almascience.org/aq?member_ous_id=uid://...     text/html   \n",
       "4  http://almascience.org/aq?member_ous_id=uid://...     text/html   \n",
       "\n",
       "      proposal_id data_rights  gal_longitude  gal_latitude  \\\n",
       "0  2016.1.00990.S      Public     223.393976    -54.402914   \n",
       "1  2016.1.00048.S      Public     223.955959    -54.231119   \n",
       "2  2016.1.00048.S      Public     223.104592    -54.317497   \n",
       "3  2015.1.01227.S      Public      53.436745    -36.256988   \n",
       "4  2016.1.00048.S      Public     223.816492    -54.259375   \n",
       "\n",
       "             obs_publisher_did obs_collection facility_name instrument_name  \\\n",
       "0  ADS/JAO.ALMA#2016.1.00990.S           ALMA           JAO            ALMA   \n",
       "1  ADS/JAO.ALMA#2016.1.00048.S           ALMA           JAO            ALMA   \n",
       "2  ADS/JAO.ALMA#2016.1.00048.S           ALMA           JAO            ALMA   \n",
       "3  ADS/JAO.ALMA#2015.1.01227.S           ALMA           JAO            ALMA   \n",
       "4  ADS/JAO.ALMA#2016.1.00048.S           ALMA           JAO            ALMA   \n",
       "\n",
       "   ...   frequency velocity_resolution   obs_creator_name  \\\n",
       "0  ...  138.026657         8242.256222   Barro, Guillermo   \n",
       "1  ...  343.990133        26767.001161  Hodge, Jacqueline   \n",
       "2  ...  343.989864        26767.001161  Hodge, Jacqueline   \n",
       "3  ...  678.992756        13758.210504  Thomson, Alasdair   \n",
       "4  ...  343.990074        26767.001161  Hodge, Jacqueline   \n",
       "\n",
       "                                           pub_title  \\\n",
       "0                                                      \n",
       "1  ALMA 200 pc Resolution Imaging of Smooth Cold ...   \n",
       "2  ALMA 200 pc Resolution Imaging of Smooth Cold ...   \n",
       "3                                                      \n",
       "4  ALMA 200 pc Resolution Imaging of Smooth Cold ...   \n",
       "\n",
       "                  first_author  qa2_passed  \\\n",
       "0                                        T   \n",
       "1  Hodge, J. A. Rujopakarn, W.           T   \n",
       "2  Hodge, J. A. Rujopakarn, W.           T   \n",
       "3                                        T   \n",
       "4  Hodge, J. A. Rujopakarn, W.           T   \n",
       "\n",
       "                             bib_reference  \\\n",
       "0                                            \n",
       "1  2019ApJ...876..130H 2019ApJ...882..107R   \n",
       "2  2019ApJ...876..130H 2019ApJ...882..107R   \n",
       "3                                            \n",
       "4  2019ApJ...876..130H 2019ApJ...882..107R   \n",
       "\n",
       "                                    science_keyword  scientific_category  \\\n",
       "0  Starburst galaxies, Galaxy structure & evolution      Active galaxies   \n",
       "1         Starburst galaxies, Sub-mm Galaxies (SMG)      Active galaxies   \n",
       "2         Starburst galaxies, Sub-mm Galaxies (SMG)      Active galaxies   \n",
       "3         Starburst galaxies, Sub-mm Galaxies (SMG)      Active galaxies   \n",
       "4         Starburst galaxies, Sub-mm Galaxies (SMG)      Active galaxies   \n",
       "\n",
       "              lastModified  \n",
       "0  2021-06-16T16:46:50.431  \n",
       "1  2021-06-16T16:46:50.431  \n",
       "2  2021-06-16T16:46:50.431  \n",
       "3  2021-06-16T16:46:50.431  \n",
       "4  2021-06-16T16:46:50.431  \n",
       "\n",
       "[5 rows x 63 columns]"
      ]
     },
     "execution_count": 9,
     "metadata": {},
     "output_type": "execute_result"
    }
   ],
   "source": [
    "output_cont = query_spatialresolution('Starburst galaxies', 'image', 0, 0.1)\n",
    "output_cont.head(5)"
   ]
  },
  {
   "cell_type": "markdown",
   "metadata": {},
   "source": [
    "This is the distributions of high spatial-resolution continuum observations of starburst galaxies:"
   ]
  },
  {
   "cell_type": "code",
   "execution_count": 13,
   "metadata": {},
   "outputs": [
    {
     "data": {
      "text/plain": [
       "<matplotlib.axes._subplots.AxesSubplot at 0x11b928ad0>"
      ]
     },
     "execution_count": 13,
     "metadata": {},
     "output_type": "execute_result"
    },
    {
     "data": {
      "image/png": "[encoded data removed]",
      "text/plain": [
       "<Figure size 432x288 with 1 Axes>"
      ]
     },
     "metadata": {
      "needs_background": "light"
     },
     "output_type": "display_data"
    }
   ],
   "source": [
    "output_cont['spatial_resolution'].plot.hist(bins=10)"
   ]
  },
  {
   "cell_type": "code",
   "execution_count": 15,
   "metadata": {},
   "outputs": [
    {
     "data": {
      "text/plain": [
       "(86, array(['3c368', 'ALESS_112.1', 'ALESS_15.1', 'ALESS_17.1', 'ALESS_3.1',\n",
       "        'ALESS_76.1', 'ALESS_9.1', 'AzTEC-3', 'AzTEC_8', 'GDS-25998',\n",
       "        'GDS-9834', 'HELMS_182', 'HELMS_34', 'HELMS_42', 'HELMS_65',\n",
       "        'J2054-0005', 'SDSS_J2310+1855', 'SGP-33512', 'SGP-466329',\n",
       "        'SGP-51987', 'SGP-759717', 'SGP38326', 'SMMJ21352-0102', 'UDF2',\n",
       "        'UDF3', 'VV2006_J205724.2-003019', 'scuba2-035', 'scuba2-038',\n",
       "        'scuba2-041', 'scuba2-046', 'scuba2-048', 'scuba2-053',\n",
       "        'scuba2-054', 'scuba2-055', 'scuba2-061', 'scuba2-062',\n",
       "        'scuba2-064', 'scuba2-065', 'scuba2-066', 'scuba2-067',\n",
       "        'scuba2-068', 'scuba2-069', 'scuba2-070', 'scuba2-072',\n",
       "        'scuba2-074', 'scuba2-075', 'scuba2-076', 'scuba2-077',\n",
       "        'scuba2-080', 'scuba2-083', 'scuba2-084', 'scuba2-085',\n",
       "        'scuba2-086', 'scuba2-089', 'scuba2-091', 'scuba2-093',\n",
       "        'scuba2-094', 'scuba2-095', 'scuba2-097', 'scuba2-098',\n",
       "        'scuba2-099', 'scuba2-100', 'scuba2-101', 'scuba2-102',\n",
       "        'scuba2-103', 'scuba2-104', 'scuba2-105', 'scuba2-106',\n",
       "        'scuba2-107', 'scuba2-109', 'scuba2-111', 'scuba2-113',\n",
       "        'scuba2-114', 'scuba2-116', 'scuba2-118', 'scuba2-119',\n",
       "        'scuba2-120', 'scuba2-121', 'scuba2-122', 'scuba2-123',\n",
       "        'scuba2-124', 'scuba2-125', 'scuba2-126', 'scuba2-127',\n",
       "        'scuba2-128', 'scuba2-129'], dtype=object))"
      ]
     },
     "execution_count": 15,
     "metadata": {},
     "output_type": "execute_result"
    }
   ],
   "source": [
    "len(np.unique(output_cont['target_name'])), np.unique(output_cont['target_name'])"
   ]
  },
  {
   "cell_type": "markdown",
   "metadata": {},
   "source": [
    "\n",
    "--------------------------------\n",
    "## Example 5a: Query all spectral observations of starburst galaxies with spatial resolution <0.1 arcsec"
   ]
  },
  {
   "cell_type": "code",
   "execution_count": 16,
   "metadata": {},
   "outputs": [],
   "source": [
    "output_spec = query_spatialresolution('Starburst galaxies', 'cube', 0, 0.1)\n"
   ]
  },
  {
   "cell_type": "code",
   "execution_count": 17,
   "metadata": {},
   "outputs": [
    {
     "data": {
      "text/plain": [
       "<matplotlib.axes._subplots.AxesSubplot at 0x11bb22310>"
      ]
     },
     "execution_count": 17,
     "metadata": {},
     "output_type": "execute_result"
    },
    {
     "data": {
      "image/png": "[encoded data removed]",
      "text/plain": [
       "<Figure size 432x288 with 1 Axes>"
      ]
     },
     "metadata": {
      "needs_background": "light"
     },
     "output_type": "display_data"
    }
   ],
   "source": [
    "output_spec['spatial_resolution'].plot.hist(bins=10)"
   ]
  },
  {
   "cell_type": "code",
   "execution_count": 18,
   "metadata": {
    "scrolled": true
   },
   "outputs": [
    {
     "data": {
      "text/plain": [
       "(11, array(['AzTEC-3', 'AzTEC_8', 'BRI1335', 'CDFS_12631', 'GDS-25998',\n",
       "        'NB2315', 'PKS_0529-549', 'SGP38326', 'SGP54107', 'SMMJ21352-0102',\n",
       "        'VV2006_J205724.2-003019'], dtype=object))"
      ]
     },
     "execution_count": 18,
     "metadata": {},
     "output_type": "execute_result"
    }
   ],
   "source": [
    "len(np.unique(output_spec['target_name'])), np.unique(output_spec['target_name'])"
   ]
  }
 ],
 "metadata": {
  "kernelspec": {
   "display_name": "Python 3",
   "language": "python",
   "name": "python3"
  },
  "language_info": {
   "codemirror_mode": {
    "name": "ipython",
    "version": 3
   },
   "file_extension": ".py",
   "mimetype": "text/x-python",
   "name": "python",
   "nbconvert_exporter": "python",
   "pygments_lexer": "ipython3",
   "version": "3.7.5"
  }
 },
 "nbformat": 4,
 "nbformat_minor": 2
}
