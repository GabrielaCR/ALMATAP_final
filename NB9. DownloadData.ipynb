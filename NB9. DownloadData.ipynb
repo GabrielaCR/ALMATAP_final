{
 "cells": [
  {
   "cell_type": "markdown",
   "metadata": {},
   "source": [
    "<img src=\"ALMAARC.png\" width=\"250\" height=\"240\"  align=\"right\"/> \n",
    "\n",
    "\n",
    "\n",
    "<hr style=\"border:2px solid darkblue\"> </hr>\n",
    "\n",
    "# NB9. Download data after query\n",
    "\n",
    "<hr style=\"border:2px solid darkblue\"> </hr>\n",
    "\n",
    "In this notebook we show how to download data after the query"
   ]
  },
  {
   "cell_type": "code",
   "execution_count": 2,
   "metadata": {},
   "outputs": [],
   "source": [
    "import numpy as np\n",
    "from astropy.table import Table\n",
    "import pyvo\n",
    "import pandas as pd"
   ]
  },
  {
   "cell_type": "markdown",
   "metadata": {},
   "source": [
    "<hr style=\"border:2px solid darkblue\"> </hr>\n",
    "\n",
    "## Using astroquery\n",
    "\n",
    "<hr style=\"border:2px solid darkblue\"> </hr>\n",
    "\n",
    "In order to download the data after a query the Member Observations Unit IDs are required.\n"
   ]
  },
  {
   "cell_type": "markdown",
   "metadata": {},
   "source": [
    "### Example 9a: Download data for galaxy NGC1512\n",
    "\n",
    "First, we query the respective Member Observing Units IDs and pick one of them."
   ]
  },
  {
   "cell_type": "code",
   "execution_count": 27,
   "metadata": {},
   "outputs": [],
   "source": [
    "service = pyvo.dal.TAPService(\"https://almascience.eso.org/tap\")\n",
    "\n",
    "query = \"\"\"\n",
    "        SELECT\n",
    "        member_ous_uid \n",
    "        FROM ivoa.obscore\n",
    "        WHERE\n",
    "        target_name = 'NGC1512'\n",
    "         \"\"\" \n",
    "\n",
    "mousids = service.search(query).to_table().to_pandas()\n"
   ]
  },
  {
   "cell_type": "code",
   "execution_count": 28,
   "metadata": {},
   "outputs": [],
   "source": [
    "mousid=mousids['member_ous_uid'][0]"
   ]
  },
  {
   "cell_type": "markdown",
   "metadata": {},
   "source": [
    "It is then very simple to download the desired dataset:"
   ]
  },
  {
   "cell_type": "code",
   "execution_count": null,
   "metadata": {},
   "outputs": [],
   "source": [
    "from astroquery.alma import Alma\n",
    "\n",
    "myAlma = Alma()\n",
    "myAlma.cache_location = '/Users/User/Downloads/'\n",
    "\n",
    "myAlma.retrieve_data_from_uid(mousid)\n",
    "\n"
   ]
  },
  {
   "cell_type": "markdown",
   "metadata": {},
   "source": [
    "<hr style=\"border:2px solid darkblue\"> </hr>\n",
    "\n",
    "## Using Datalink\n",
    "\n",
    "<hr style=\"border:2px solid darkblue\"> </hr>\n",
    "\n",
    "In order to download the data after a query the Member Observations Unit IDs are required.\n",
    "\n"
   ]
  },
  {
   "cell_type": "code",
   "execution_count": 3,
   "metadata": {},
   "outputs": [],
   "source": [
    "service = pyvo.dal.TAPService(\"https://almascience.eso.org/tap\")\n",
    "\n",
    "query = \"\"\"\n",
    "        SELECT\n",
    "        member_ous_uid \n",
    "        FROM ivoa.obscore\n",
    "        WHERE\n",
    "        target_name = 'NGC1512'\n",
    "         \"\"\" \n",
    "\n",
    "mousids = service.search(query).to_table().to_pandas()"
   ]
  },
  {
   "cell_type": "code",
   "execution_count": 4,
   "metadata": {},
   "outputs": [],
   "source": [
    "mousid=mousids['member_ous_uid'][0]"
   ]
  },
  {
   "cell_type": "code",
   "execution_count": 11,
   "metadata": {
    "scrolled": false
   },
   "outputs": [],
   "source": [
    "from pyvo.dal.adhoc import DatalinkResults\n",
    "import os\n",
    "\n",
    "datalink = DatalinkResults.from_result_url(\"https://almascience.eso.org/datalink/sync?ID=\"+ mousid)\n",
    "\n",
    "for dl in datalink:\n",
    "    \n",
    "    dl.cachedataset(filename=os.path.basename(dl['access_url']))"
   ]
  },
  {
   "cell_type": "code",
   "execution_count": null,
   "metadata": {},
   "outputs": [],
   "source": []
  }
 ],
 "metadata": {
  "kernelspec": {
   "display_name": "Python 3",
   "language": "python",
   "name": "python3"
  },
  "language_info": {
   "codemirror_mode": {
    "name": "ipython",
    "version": 3
   },
   "file_extension": ".py",
   "mimetype": "text/x-python",
   "name": "python",
   "nbconvert_exporter": "python",
   "pygments_lexer": "ipython3",
   "version": "3.7.5"
  }
 },
 "nbformat": 4,
 "nbformat_minor": 2
}
